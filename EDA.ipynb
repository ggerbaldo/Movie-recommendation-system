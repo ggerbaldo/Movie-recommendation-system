{
 "cells": [
  {
   "cell_type": "code",
   "execution_count": 50,
   "metadata": {},
   "outputs": [],
   "source": [
    "# Importar librerias\n",
    "import pandas as pd\n",
    "import numpy as np\n",
    "import matplotlib.pyplot as plt\n",
    "import seaborn as sns\n",
    "import ast\n",
    "from fastapi import FastAPI, HTTPException\n",
    "from nltk.corpus import stopwords\n",
    "from nltk.tokenize import word_tokenize\n",
    "import ydata_profiling\n",
    "from ydata_profiling import ProfileReport\n",
    "from sklearn.feature_extraction.text import TfidfVectorizer\n",
    "from sklearn.metrics.pairwise import cosine_similarity\n",
    "from sqlalchemy import create_engine\n",
    "import warnings\n",
    "warnings.filterwarnings('ignore')"
   ]
  },
  {
   "cell_type": "code",
   "execution_count": 3,
   "metadata": {},
   "outputs": [],
   "source": [
    "# Cargar datos\n",
    "archivo_parquet = 'C:\\\\Users\\\\felip\\\\Desktop\\\\Proyecto1\\\\Data\\\\df_movies.parquet'\n",
    "df_movies = pd.read_parquet(archivo_parquet)\n",
    "                            "
   ]
  },
  {
   "cell_type": "code",
   "execution_count": 4,
   "metadata": {},
   "outputs": [
    {
     "name": "stdout",
     "output_type": "stream",
     "text": [
      "<class 'pandas.core.frame.DataFrame'>\n",
      "RangeIndex: 49822 entries, 0 to 49821\n",
      "Data columns (total 23 columns):\n",
      " #   Column                 Non-Null Count  Dtype         \n",
      "---  ------                 --------------  -----         \n",
      " 0   belongs_to_collection  5169 non-null   object        \n",
      " 1   budget                 49822 non-null  float64       \n",
      " 2   genres                 49822 non-null  object        \n",
      " 3   id                     49822 non-null  object        \n",
      " 4   original_language      49807 non-null  object        \n",
      " 5   overview               48819 non-null  object        \n",
      " 6   popularity             49822 non-null  float64       \n",
      " 7   production_companies   49822 non-null  object        \n",
      " 8   production_countries   49822 non-null  object        \n",
      " 9   release_date           45359 non-null  datetime64[ns]\n",
      " 10  revenue                49822 non-null  float64       \n",
      " 11  runtime                49562 non-null  float64       \n",
      " 12  spoken_languages       49822 non-null  object        \n",
      " 13  status                 49736 non-null  object        \n",
      " 14  tagline                22171 non-null  object        \n",
      " 15  title                  49822 non-null  object        \n",
      " 16  vote_average           49822 non-null  float64       \n",
      " 17  vote_count             49822 non-null  float64       \n",
      " 18  return                 49822 non-null  float64       \n",
      " 19  release_year           49822 non-null  int32         \n",
      " 20  crewjob                48986 non-null  object        \n",
      " 21  director               49822 non-null  object        \n",
      " 22  actors                 49822 non-null  object        \n",
      "dtypes: datetime64[ns](1), float64(7), int32(1), object(14)\n",
      "memory usage: 8.6+ MB\n"
     ]
    }
   ],
   "source": [
    "# Examinar la información del DataFrame, como el tipo de datos y los valores nulos.\n",
    "df_movies.info()"
   ]
  },
  {
   "cell_type": "code",
   "execution_count": 5,
   "metadata": {},
   "outputs": [
    {
     "name": "stdout",
     "output_type": "stream",
     "text": [
      "<class 'pandas.core.frame.DataFrame'>\n",
      "Index: 4380 entries, 0 to 49536\n",
      "Data columns (total 23 columns):\n",
      " #   Column                 Non-Null Count  Dtype         \n",
      "---  ------                 --------------  -----         \n",
      " 0   belongs_to_collection  1320 non-null   object        \n",
      " 1   budget                 4380 non-null   float64       \n",
      " 2   genres                 4380 non-null   object        \n",
      " 3   id                     4380 non-null   object        \n",
      " 4   original_language      4380 non-null   object        \n",
      " 5   overview               4375 non-null   object        \n",
      " 6   popularity             4380 non-null   float64       \n",
      " 7   production_companies   4380 non-null   object        \n",
      " 8   production_countries   4380 non-null   object        \n",
      " 9   release_date           4264 non-null   datetime64[ns]\n",
      " 10  revenue                4380 non-null   float64       \n",
      " 11  runtime                4380 non-null   float64       \n",
      " 12  spoken_languages       4380 non-null   object        \n",
      " 13  status                 4380 non-null   object        \n",
      " 14  tagline                3984 non-null   object        \n",
      " 15  title                  4380 non-null   object        \n",
      " 16  vote_average           4380 non-null   float64       \n",
      " 17  vote_count             4380 non-null   float64       \n",
      " 18  return                 4380 non-null   float64       \n",
      " 19  release_year           4380 non-null   int32         \n",
      " 20  crewjob                4380 non-null   object        \n",
      " 21  director               4380 non-null   object        \n",
      " 22  actors                 4380 non-null   object        \n",
      "dtypes: datetime64[ns](1), float64(7), int32(1), object(14)\n",
      "memory usage: 804.1+ KB\n"
     ]
    }
   ],
   "source": [
    "# Reducimos el dataframe para trabajar la recomendación\n",
    "df_movies_reduce = df_movies[df_movies['vote_count'] > 200]\n",
    "df_movies_reduce.info()"
   ]
  },
  {
   "cell_type": "code",
   "execution_count": 6,
   "metadata": {},
   "outputs": [
    {
     "data": {
      "text/plain": [
       "belongs_to_collection    3060\n",
       "budget                      0\n",
       "genres                      0\n",
       "id                          0\n",
       "original_language           0\n",
       "overview                    5\n",
       "popularity                  0\n",
       "production_companies        0\n",
       "production_countries        0\n",
       "release_date              116\n",
       "revenue                     0\n",
       "runtime                     0\n",
       "spoken_languages            0\n",
       "status                      0\n",
       "tagline                   396\n",
       "title                       0\n",
       "vote_average                0\n",
       "vote_count                  0\n",
       "return                      0\n",
       "release_year                0\n",
       "crewjob                     0\n",
       "director                    0\n",
       "actors                      0\n",
       "dtype: int64"
      ]
     },
     "execution_count": 6,
     "metadata": {},
     "output_type": "execute_result"
    }
   ],
   "source": [
    "df_movies_reduce.isnull().sum()"
   ]
  },
  {
   "cell_type": "code",
   "execution_count": 7,
   "metadata": {},
   "outputs": [
    {
     "data": {
      "text/plain": [
       "belongs_to_collection     556\n",
       "budget                    420\n",
       "genres                   1088\n",
       "id                       3969\n",
       "original_language          26\n",
       "overview                 3967\n",
       "popularity               3970\n",
       "production_companies     3302\n",
       "production_countries      419\n",
       "release_date             3507\n",
       "revenue                  3338\n",
       "runtime                   153\n",
       "spoken_languages          518\n",
       "status                      3\n",
       "tagline                  3609\n",
       "title                    3895\n",
       "vote_average               55\n",
       "vote_count               1619\n",
       "return                   3379\n",
       "release_year               93\n",
       "crewjob                     1\n",
       "director                 1830\n",
       "actors                   3968\n",
       "dtype: int64"
      ]
     },
     "execution_count": 7,
     "metadata": {},
     "output_type": "execute_result"
    }
   ],
   "source": [
    "# Observar la cantidad de valores unicos de cada columna\n",
    "df_movies_reduce.nunique()"
   ]
  },
  {
   "cell_type": "code",
   "execution_count": 175,
   "metadata": {},
   "outputs": [],
   "source": [
    "# Analisis del dataset - trabajos a realizar para lograr una recomendación basada en cadenas de strings:\n",
    "# Campo 'status': trabajar sólo con los registros 'released'.\n",
    "# Campo 'overview': Eliminar N/A\n",
    "# Campo 'genres': desanidar para obtener sólo generos como una lista.\n",
    "# Campo 'production_companies': desanidar y obtener sólo el nombre de la compania productora.\n",
    "# Campo 'director', se agrupará en aquellos films con multiples directores.\n",
    "# Tampoco se consideran necesarios los siguientes campos: 'belongs_to_collection', 'budget', 'popularity', 'production_countries', 'release_date', 'revenue', 'runtime', 'spoken_languages', 'vote_average', 'vote_count', 'return', 'release_year', 'crewjob', 'tagline', ni el campo 'status' ya que se trabajará sólo con los films estranados como se comentara previamente. \n"
   ]
  },
  {
   "cell_type": "code",
   "execution_count": 8,
   "metadata": {},
   "outputs": [
    {
     "data": {
      "text/plain": [
       "(4378, 23)"
      ]
     },
     "execution_count": 8,
     "metadata": {},
     "output_type": "execute_result"
    }
   ],
   "source": [
    "# Seleccionamos sólo las peliculas con lanzamiento.\n",
    "df_movies_released = df_movies_reduce[df_movies['status'] == 'Released']\n",
    "df_movies_released.shape"
   ]
  },
  {
   "cell_type": "code",
   "execution_count": 9,
   "metadata": {},
   "outputs": [
    {
     "data": {
      "text/plain": [
       "(4373, 23)"
      ]
     },
     "execution_count": 9,
     "metadata": {},
     "output_type": "execute_result"
    }
   ],
   "source": [
    "# Elimina las filas con valores nulos en 'overview'\n",
    "df_movies_released.dropna(axis=0, subset=['overview'], inplace=True)\n",
    "df_movies_released.shape"
   ]
  },
  {
   "cell_type": "code",
   "execution_count": 10,
   "metadata": {},
   "outputs": [
    {
     "data": {
      "text/plain": [
       "(4373, 8)"
      ]
     },
     "execution_count": 10,
     "metadata": {},
     "output_type": "execute_result"
    }
   ],
   "source": [
    "# Seleccionar columnas mas relevantes\n",
    "df_user = df_movies_released[['id','genres','original_language','overview','production_companies','title', 'director', 'actors']]\n",
    "df_user.shape"
   ]
  },
  {
   "cell_type": "code",
   "execution_count": 11,
   "metadata": {},
   "outputs": [
    {
     "data": {
      "text/plain": [
       "<bound method DataFrame.info of            id         director\n",
       "0         862    John Lasseter\n",
       "1        8844     Joe Johnston\n",
       "5         949     Michael Mann\n",
       "9         710  Martin Campbell\n",
       "11      12110       Mel Brooks\n",
       "...       ...              ...\n",
       "49252  269795      Paul Currie\n",
       "49313  353491    Nikolaj Arcel\n",
       "49459  378236  Anthony Leondis\n",
       "49496  339692  Ric Roman Waugh\n",
       "49536  417870   Malcolm D. Lee\n",
       "\n",
       "[4373 rows x 2 columns]>"
      ]
     },
     "execution_count": 11,
     "metadata": {},
     "output_type": "execute_result"
    }
   ],
   "source": [
    "df_director = df_user[['id', 'director']]\n",
    "df_director.info"
   ]
  },
  {
   "cell_type": "code",
   "execution_count": 12,
   "metadata": {},
   "outputs": [
    {
     "name": "stdout",
     "output_type": "stream",
     "text": [
      "<class 'pandas.core.frame.DataFrame'>\n",
      "RangeIndex: 3965 entries, 0 to 3964\n",
      "Data columns (total 2 columns):\n",
      " #   Column    Non-Null Count  Dtype \n",
      "---  ------    --------------  ----- \n",
      " 0   id        3965 non-null   object\n",
      " 1   director  3965 non-null   object\n",
      "dtypes: object(2)\n",
      "memory usage: 62.1+ KB\n"
     ]
    }
   ],
   "source": [
    "# Reagrupamos el dataframe para obtener sólo un id con una lista de directores\n",
    "df_director_reagrupado = df_director.groupby('id')['director'].apply(list).reset_index()\n",
    "df_director_reagrupado.info()"
   ]
  },
  {
   "cell_type": "code",
   "execution_count": 13,
   "metadata": {},
   "outputs": [],
   "source": [
    "df_user_dir = df_user.merge(df_director_reagrupado, on='id', how='left')"
   ]
  },
  {
   "cell_type": "code",
   "execution_count": 14,
   "metadata": {},
   "outputs": [],
   "source": [
    "df_user_dir.drop(columns=['director_x'], inplace=True)"
   ]
  },
  {
   "cell_type": "code",
   "execution_count": null,
   "metadata": {},
   "outputs": [],
   "source": [
    "df_user_dir.rename(columns={'director_y': 'directors'}, inplace=True)\n",
    " \n",
    "df_user_dir\n"
   ]
  },
  {
   "cell_type": "code",
   "execution_count": 90,
   "metadata": {},
   "outputs": [
    {
     "name": "stdout",
     "output_type": "stream",
     "text": [
      "<class 'pandas.core.frame.DataFrame'>\n",
      "Index: 3965 entries, 0 to 4372\n",
      "Data columns (total 8 columns):\n",
      " #   Column                Non-Null Count  Dtype \n",
      "---  ------                --------------  ----- \n",
      " 0   id                    3965 non-null   object\n",
      " 1   genres                3965 non-null   object\n",
      " 2   original_language     3965 non-null   object\n",
      " 3   overview              3965 non-null   object\n",
      " 4   production_companies  3965 non-null   object\n",
      " 5   title                 3965 non-null   object\n",
      " 6   actors                3965 non-null   object\n",
      " 7   directors             3965 non-null   object\n",
      "dtypes: object(8)\n",
      "memory usage: 278.8+ KB\n"
     ]
    }
   ],
   "source": [
    "df_user_dir.drop_duplicates(subset=['overview'], inplace=True)  #df = df.drop_duplicates(subset=['nombre_columna'])\n",
    "df_user_dir.dropna()\n",
    "df_user_dir.info()"
   ]
  },
  {
   "cell_type": "code",
   "execution_count": 16,
   "metadata": {},
   "outputs": [],
   "source": [
    "# Expandimos las columnas 'genres' y 'production_companies' para limpiar la informacion innecesaria\n",
    "\n",
    "def expandcolumns(df, columns):\n",
    "    for column in columns:\n",
    "        df[column] = df[column].apply(lambda x: ast.literal_eval(x) if pd.notnull(x) else []) #Convierte el contenido de cada celda en la columna column de df de una cadena de texto que representa una lista de diccionarios a una lista de diccionarios Python, utilizando ast.literal_eval. Si el valor es nulo (pd.notnull(x)), se devuelve una lista vacía.\n",
    "        # Expande la columna column en filas, de modo que cada elemento de la lista de diccionarios se convierte en una fila separada en df\n",
    "        df = df.explode(column)\n",
    "        # Normaliza la columna column después de expandirla, lo que significa que convierte cada diccionario dentro de la lista en una serie de columnas.\n",
    "        col_df = pd.json_normalize(df[column])\n",
    "        # Renombra las columnas normalizadas agregando el nombre original de la columna como prefijo, para evitar conflictos si hay nombres de columnas duplicados en diferentes listas de diccionarios.\n",
    "        col_df = col_df.add_prefix(f'{column}')\n",
    "        # Elimina la columna original column del DataFrame df y la reemplaza con las columnas normalizadas (col_df), asegurándose de que el índice del DataFrame se reinicie para evitar problemas con el índice de las filas.\n",
    "        df = df.drop(columns=[column]).reset_index(drop=True).join(col_df)\n",
    "    return df\n",
    "\n",
    "columns_to_expand = ['genres']\n",
    "columns_to_expand2 = ['production_companies']\n",
    "\n",
    "#Expandir las columnas de listas de diccionarios\n",
    "df_genres = expandcolumns(df_user_dir, columns_to_expand)\n",
    "df_companies = expandcolumns(df_user_dir, columns_to_expand2)"
   ]
  },
  {
   "cell_type": "code",
   "execution_count": 17,
   "metadata": {},
   "outputs": [
    {
     "name": "stdout",
     "output_type": "stream",
     "text": [
      "<class 'pandas.core.frame.DataFrame'>\n",
      "RangeIndex: 11714 entries, 0 to 11713\n",
      "Data columns (total 2 columns):\n",
      " #   Column      Non-Null Count  Dtype \n",
      "---  ------      --------------  ----- \n",
      " 0   id          11714 non-null  object\n",
      " 1   genresname  11713 non-null  object\n",
      "dtypes: object(2)\n",
      "memory usage: 183.2+ KB\n"
     ]
    }
   ],
   "source": [
    "# Seleccionamos sólo las columnas genresname y id\n",
    "df_genres = df_genres[['id', 'genresname']]\n",
    "df_genres.info()"
   ]
  },
  {
   "cell_type": "code",
   "execution_count": 18,
   "metadata": {},
   "outputs": [
    {
     "name": "stdout",
     "output_type": "stream",
     "text": [
      "<class 'pandas.core.frame.DataFrame'>\n",
      "RangeIndex: 14636 entries, 0 to 14635\n",
      "Data columns (total 2 columns):\n",
      " #   Column                    Non-Null Count  Dtype \n",
      "---  ------                    --------------  ----- \n",
      " 0   id                        14636 non-null  object\n",
      " 1   production_companiesname  14626 non-null  object\n",
      "dtypes: object(2)\n",
      "memory usage: 228.8+ KB\n"
     ]
    }
   ],
   "source": [
    "# Seleccionamos sólo las columnas genresname y id\n",
    "df_companies = df_companies[['id', 'production_companiesname']]\n",
    "df_companies.info()\n",
    "                            "
   ]
  },
  {
   "cell_type": "code",
   "execution_count": 19,
   "metadata": {},
   "outputs": [
    {
     "name": "stdout",
     "output_type": "stream",
     "text": [
      "<class 'pandas.core.frame.DataFrame'>\n",
      "RangeIndex: 3965 entries, 0 to 3964\n",
      "Data columns (total 2 columns):\n",
      " #   Column      Non-Null Count  Dtype \n",
      "---  ------      --------------  ----- \n",
      " 0   id          3965 non-null   object\n",
      " 1   genresname  3965 non-null   object\n",
      "dtypes: object(2)\n",
      "memory usage: 62.1+ KB\n"
     ]
    }
   ],
   "source": [
    "# Reagrupamos el dataframe para obtener sólo un id con una lista de generos\n",
    "df_genres_reagrupado = df_genres.groupby('id')['genresname'].apply(list).reset_index()\n",
    "df_genres_reagrupado.info()"
   ]
  },
  {
   "cell_type": "code",
   "execution_count": 20,
   "metadata": {},
   "outputs": [
    {
     "name": "stdout",
     "output_type": "stream",
     "text": [
      "<class 'pandas.core.frame.DataFrame'>\n",
      "RangeIndex: 3965 entries, 0 to 3964\n",
      "Data columns (total 2 columns):\n",
      " #   Column                    Non-Null Count  Dtype \n",
      "---  ------                    --------------  ----- \n",
      " 0   id                        3965 non-null   object\n",
      " 1   production_companiesname  3965 non-null   object\n",
      "dtypes: object(2)\n",
      "memory usage: 62.1+ KB\n"
     ]
    }
   ],
   "source": [
    "# Reagrupamos el dataframe productoras para obtener sólo un id con una lista de generos\n",
    "df_companies_reagrupado = df_companies.groupby('id')['production_companiesname'].apply(list).reset_index()\n",
    "df_companies_reagrupado.info()"
   ]
  },
  {
   "cell_type": "code",
   "execution_count": 21,
   "metadata": {},
   "outputs": [],
   "source": [
    "df_user_dir = df_user_dir.merge(df_genres_reagrupado, on='id', how='left')"
   ]
  },
  {
   "cell_type": "code",
   "execution_count": 22,
   "metadata": {},
   "outputs": [],
   "source": [
    "# Eliminamos columna antigua de genero\n",
    "df_user_dir.drop(columns=['genres'], inplace=True)"
   ]
  },
  {
   "cell_type": "code",
   "execution_count": 23,
   "metadata": {},
   "outputs": [],
   "source": [
    "df_recommend = df_user_dir.merge(df_companies_reagrupado, on='id', how='left')"
   ]
  },
  {
   "cell_type": "code",
   "execution_count": 24,
   "metadata": {},
   "outputs": [],
   "source": [
    "# Eliminamos columna antigua de productoras\n",
    "df_recommend.drop(columns=['production_companies'], inplace=True)"
   ]
  },
  {
   "cell_type": "code",
   "execution_count": 25,
   "metadata": {},
   "outputs": [],
   "source": [
    "# Renombraos columnas\n",
    "df_recommend.rename(columns={'genresname': 'genres', 'production_companiesname': 'production_companies'}, inplace=True)"
   ]
  },
  {
   "cell_type": "code",
   "execution_count": 26,
   "metadata": {},
   "outputs": [
    {
     "name": "stderr",
     "output_type": "stream",
     "text": [
      "[nltk_data] Downloading package stopwords to\n",
      "[nltk_data]     C:\\Users\\felip\\AppData\\Roaming\\nltk_data...\n",
      "[nltk_data]   Package stopwords is already up-to-date!\n"
     ]
    },
    {
     "data": {
      "text/plain": [
       "True"
      ]
     },
     "execution_count": 26,
     "metadata": {},
     "output_type": "execute_result"
    }
   ],
   "source": [
    "import nltk\n",
    "nltk.download('stopwords')"
   ]
  },
  {
   "cell_type": "code",
   "execution_count": 111,
   "metadata": {},
   "outputs": [],
   "source": [
    "# stop_words = set(stopwords.words('english'))\n",
    "# stop_words_es = set(stopwords.words('spanish'))\n"
   ]
  },
  {
   "cell_type": "code",
   "execution_count": 27,
   "metadata": {},
   "outputs": [],
   "source": [
    "df_recommend['title'] = df_recommend['title'].astype(str)\n"
   ]
  },
  {
   "cell_type": "code",
   "execution_count": 28,
   "metadata": {},
   "outputs": [],
   "source": [
    "df_recommend.to_parquet('C:\\\\Users\\\\felip\\\\Desktop\\\\Proyecto1\\\\Data\\\\df_recommend.parquet')"
   ]
  },
  {
   "cell_type": "code",
   "execution_count": 129,
   "metadata": {},
   "outputs": [],
   "source": [
    "# Creamos una funcion para limpiar y tokenizar nuestras columnas\n",
    "\n",
    "# def clear_text(text):\n",
    "#     tokens = word_tokenize(text)\n",
    "#     tokens = [word.lower() for word in tokens if word.isalpha()] # Elimina signos de puntuacion y llevamos a minuscula\n",
    "#     tokens = [word for word in tokens if word not in stop_words and word not in stop_words_es] # Se filtra por stopwords\n",
    "#     return tokens"
   ]
  },
  {
   "cell_type": "code",
   "execution_count": null,
   "metadata": {},
   "outputs": [],
   "source": [
    "# Limpiamos los registros complejos\n",
    "\n",
    "# df_recommend['final_title'] = df_recommend['title'].apply(lambda x: clear_text(x))\n",
    "# df_recommend['final_overview'] = df_recommend['overview'].apply(lambda x: clear_text(x))"
   ]
  },
  {
   "cell_type": "markdown",
   "metadata": {},
   "source": [
    "Visualizamos cantidad de votos"
   ]
  },
  {
   "cell_type": "code",
   "execution_count": 196,
   "metadata": {},
   "outputs": [],
   "source": [
    "# plt.figure(figsize=(10,6))\n",
    "\n",
    "# sns.histplot(data=df_movies_sindirector, x='vote_count', bins=1238, kde= True, color='blue', label='Cantidad votos')\n",
    "\n",
    "# #sns.histplot(data=df_movies_sindirector, x='vote_average', bins=10, kde= True, color='red', label='Promedio de votos')\n",
    "\n",
    "# plt.title('Análisis de votos')\n",
    "# plt.legend()\n",
    "# plt.show()"
   ]
  },
  {
   "cell_type": "code",
   "execution_count": 34,
   "metadata": {},
   "outputs": [],
   "source": [
    "# Convertimos columna 'title' a una representacón numérica usando Tf-IDF\n",
    "vectorizer = TfidfVectorizer()\n",
    "matrix = vectorizer.fit_transform(df_recommend['title'] + ' ' + df_recommend['genres'].astype(str) + ' ' + df_recommend['actors'].astype(str) + ' ' + df_recommend['production_companies'].astype(str) + ' ' + df_recommend['overview'].astype(str) + ' ' + df_recommend['directors'].astype(str) + ' ' + df_recommend['genres'].astype(str) + ' ' + df_recommend['genres'].astype(str)) #+ ' ' + df_movies_sindirector['actors']) #+ ' ' + df_movies_sindirector['genresname'])\n",
    "\n",
    "# Añadimos las columnas numéricas a nuestra matriz.\n",
    "# features = np.column_stack([matrix.toarray(), df_movies_sindirector['vote_count'], df_movies_sindirector['vote_average']])\n"
   ]
  },
  {
   "cell_type": "code",
   "execution_count": 31,
   "metadata": {},
   "outputs": [],
   "source": [
    "# Convertimos columna 'title' a una representacón numérica usando Tf-IDF\n",
    "# vectorizer = TfidfVectorizer()\n",
    "# matrix = vectorizer.fit_transform(df_movies_sindirector['title'] + ' ' + df_movies_sindirector['actors']) #+ ' ' + df_movies_sindirector['actors']) #+ ' ' + df_movies_sindirector['genresname'])\n",
    "\n",
    "# # Añadimos las columnas numéricas a nuestra matriz.\n",
    "# features = np.column_stack([matrix.toarray(), df_movies_sindirector['vote_count'], df_movies_sindirector['vote_average']])\n"
   ]
  },
  {
   "cell_type": "code",
   "execution_count": 35,
   "metadata": {},
   "outputs": [],
   "source": [
    "# Reindexamos el dataframe\n",
    "df_recommend = df_recommend.reset_index(drop=True)\n",
    "\n",
    "# Calculamos la matriz de similitud de coseno\n",
    "cosine_matrix = cosine_similarity(matrix)\n",
    "\n",
    "# # Elaboramos función para recomentar 5 peliculas similares a un titulo indicado\n",
    "# nombre_pelicula = 'Top Gun'\n",
    "# titulo = df_movies_sindirector[df_movies_sindirector['title'] == nombre_pelicula]\n",
    "\n",
    "# if not titulo.empty:\n",
    "#     product_index = titulo.index[0]\n",
    "#     product_similarities = cosine_matrix[product_index]\n",
    "#     most_similar_products_indices = np.argsort(-product_similarities)\n",
    "#     top_5_indices = most_similar_products_indices[:5]  # Obtén índices para las 5 primeras películas\n",
    "#     top_5_peliculas = df_movies_sindirector.loc[top_5_indices, 'title']\n",
    "#     print(top_5_peliculas)  # Imprime solo los 5 títulos recomendados\n",
    "#     # most_similar_products = df_movies_sindirector.loc[most_similar_products_indices, 'title']\n",
    "#     # print(most_similar_products)\n",
    "\n"
   ]
  },
  {
   "cell_type": "code",
   "execution_count": 31,
   "metadata": {},
   "outputs": [],
   "source": [
    "# def recomendacion(titulo):\n",
    "    \n",
    "#     titulo = titulo.lower()  # Convertimos todo a minúsculas\n",
    "#     titulo_pelicula = df_recommend[df_recommend['title'].str.lower() == titulo]\n",
    "\n",
    "#     if titulo_pelicula.empty:\n",
    "#         print(f\"No se encontró la película {titulo}\")\n",
    "        \n",
    "#     indice_producto = titulo_pelicula.index[0]\n",
    "#     similitudes_producto = cosine_matrix[indice_producto]\n",
    "#     indices_top_5_similares = np.argsort(-similitudes_producto)[1:6]\n",
    "#     top_5_peliculas = df_recommend.loc[indices_top_5_similares, 'title']\n",
    "#     top_5_peliculas = top_5_peliculas.reset_index(drop=True)\n",
    "#     print(f\"Películas similares a {titulo.capitalize()}:\")\n",
    "#     for i, pelicula in enumerate(top_5_peliculas, start=1):\n",
    "#         print(f\"{i}. {pelicula}\")\n",
    "        \n",
    "   "
   ]
  },
  {
   "cell_type": "code",
   "execution_count": 48,
   "metadata": {},
   "outputs": [],
   "source": [
    "def recomendacion(titulo: str):\n",
    "    titulo = titulo.lower()\n",
    "    titulo_pelicula = df_recommend[df_recommend['title'].str.lower() == titulo]\n",
    "\n",
    "    if titulo_pelicula.empty:\n",
    "        raise HTTPException(status_code=404, detail=f\"No se encontró la película {titulo}\")\n",
    "\n",
    "    indice_producto = titulo_pelicula.index[0]\n",
    "    similitudes_producto = cosine_matrix[indice_producto]\n",
    "    indices_top_5_similares = np.argsort(-similitudes_producto)[1:6]\n",
    "    top_5_peliculas = df_recommend.loc[indices_top_5_similares, 'title'].tolist()  # Convierte a lista\n",
    "    return print(f\"Películas similares a {titulo.capitalize()} son:{top_5_peliculas}\")"
   ]
  },
  {
   "cell_type": "code",
   "execution_count": 49,
   "metadata": {},
   "outputs": [
    {
     "name": "stdout",
     "output_type": "stream",
     "text": [
      "Películas similares a Titanic son:['Les Misérables', 'Return of the Jedi', 'True Romance', 'The Departed', 'Master and Commander: The Far Side of the World']\n"
     ]
    }
   ],
   "source": [
    "# Ejemplo de uso\n",
    "pelicula_recomendada = \"titanic\"\n",
    "recomendacion(pelicula_recomendada)"
   ]
  },
  {
   "cell_type": "code",
   "execution_count": null,
   "metadata": {},
   "outputs": [],
   "source": []
  }
 ],
 "metadata": {
  "kernelspec": {
   "display_name": "Python 3",
   "language": "python",
   "name": "python3"
  },
  "language_info": {
   "codemirror_mode": {
    "name": "ipython",
    "version": 3
   },
   "file_extension": ".py",
   "mimetype": "text/x-python",
   "name": "python",
   "nbconvert_exporter": "python",
   "pygments_lexer": "ipython3",
   "version": "3.11.9"
  }
 },
 "nbformat": 4,
 "nbformat_minor": 2
}
