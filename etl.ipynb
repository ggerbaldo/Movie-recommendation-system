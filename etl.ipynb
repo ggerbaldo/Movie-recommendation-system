{
 "cells": [
  {
   "cell_type": "markdown",
   "metadata": {},
   "source": [
    "### Carga de librerías y revisión de datasets"
   ]
  },
  {
   "cell_type": "code",
   "execution_count": 4,
   "metadata": {},
   "outputs": [
    {
     "data": {
      "text/plain": [
       "'\\nimport seaborn as sns\\nimport matplotlib.pyplot as plt\\n%matplotlib inline\\n\\n\\nfrom sklearn.preprocessing import StandardScaler\\nfrom sklearn.linear_model import LinearRegression\\nfrom sklearn.model_selection import  train_test_split\\nfrom sklearn.metrics import r2_score\\nfrom sklearn.linear_model import LogisticRegression\\nfrom sklearn.tree import DecisionTreeClassifier\\nfrom sklearn.metrics import classification_report, confusion_matrix, accuracy_score\\nfrom imblearn.over_sampling import SMOTE\\nfrom sklearn.model_selection import cross_val_score, RepeatedStratifiedKFold\\n'"
      ]
     },
     "execution_count": 4,
     "metadata": {},
     "output_type": "execute_result"
    }
   ],
   "source": [
    "# Importamos todas las librerias que utilizaremos en el proceo de ETL.\n",
    "import numpy as np\n",
    "import pandas as pd\n",
    "import ast\n",
    "import warnings\n",
    "warnings.filterwarnings('ignore')\n"
   ]
  },
  {
   "cell_type": "code",
   "execution_count": 5,
   "metadata": {},
   "outputs": [],
   "source": [
    "# Cargamos los datasets CSV en variables utilizando pandas.\n",
    "file1 = 'C:\\\\Users\\\\felip\\\\Downloads\\\\M6\\\\PI_1\\\\modeloDeRecomendaciones\\\\datasets\\\\movies_dataset.csv'\n",
    "file2 = 'C:\\\\Users\\\\felip\\\\Downloads\\\\M6\\\\PI_1\\\\modeloDeRecomendaciones\\\\datasets\\\\credits.csv'\n",
    "data_movies=pd.read_csv(file1, encoding='UTF-8', sep=',')\n",
    "data_credits=pd.read_csv(file2, encoding='UTF-8', sep=',')\n",
    "\n"
   ]
  },
  {
   "cell_type": "code",
   "execution_count": null,
   "metadata": {},
   "outputs": [],
   "source": [
    "# Vsualizamos ambos datasets\n",
    "data_movies.head(3)"
   ]
  },
  {
   "cell_type": "code",
   "execution_count": null,
   "metadata": {},
   "outputs": [],
   "source": [
    "data_credits.head()\n"
   ]
  },
  {
   "cell_type": "markdown",
   "metadata": {},
   "source": [
    "### Limpieza y transformación del dataset data_credits"
   ]
  },
  {
   "cell_type": "code",
   "execution_count": 8,
   "metadata": {},
   "outputs": [],
   "source": [
    "# Dividimos el datasets de credits para faclitar la limpieza.\n",
    "credits_cast = data_credits[['cast', 'id']].copy()\n",
    "credits_crew = data_credits[['crew', 'id']].copy()"
   ]
  },
  {
   "cell_type": "code",
   "execution_count": 9,
   "metadata": {},
   "outputs": [],
   "source": [
    "# Eliminamos nulos y duplicados.\n",
    "credits_crew.dropna(inplace=True)\n",
    "credits_crew.drop_duplicates(inplace=True)\n"
   ]
  },
  {
   "cell_type": "code",
   "execution_count": 10,
   "metadata": {},
   "outputs": [],
   "source": [
    "# Creamos una funcion para desanidar los registros en 'crew' y quedarnos sólo con los direcores.\n",
    "\n",
    "def expandcolumns(df, columns):\n",
    "    for column in columns:\n",
    "        df[column] = df[column].apply(lambda x: ast.literal_eval(x) if pd.notnull(x) else []) \n",
    "        # Expande la columna column en filas, de modo que cada elemento de la lista de diccionarios se convierte en una fila separada en df\n",
    "        df = df.explode(column)\n",
    "        # Normaliza la columna column después de expandirla y convierte cada diccionario dentro de la lista en una serie de columnas.\n",
    "        col_df = pd.json_normalize(df[column])\n",
    "        # Renombra las columnas normalizadas agregando el nombre original de la columna como prefijo, para evitar conflictos si hay nombres de columnas duplicados en diferentes listas de diccionarios.\n",
    "        col_df = col_df.add_prefix(f'{column}')\n",
    "        # Elimina la columna original column del DataFrame df y la reemplaza con las columnas normalizadas (col_df), asegurándose de que el índice del DataFrame se reinicie para evitar problemas con el índice de las filas.\n",
    "        df = df.drop(columns=[column]).reset_index(drop=True).join(col_df)\n",
    "    return df\n",
    "\n",
    "\n",
    "\n"
   ]
  },
  {
   "cell_type": "code",
   "execution_count": null,
   "metadata": {},
   "outputs": [],
   "source": [
    "#Expandimos las columnas del df_crew para obtener sólo los directores\n",
    "columns_to_expand = ['crew']\n",
    "df_crew = expandcolumns(credits_crew, columns_to_expand)"
   ]
  },
  {
   "cell_type": "code",
   "execution_count": null,
   "metadata": {},
   "outputs": [],
   "source": [
    "# Observamos el nuevo dataset\n",
    "df_crew.head()"
   ]
  },
  {
   "cell_type": "code",
   "execution_count": null,
   "metadata": {},
   "outputs": [],
   "source": [
    "# Analizamos su contenido\n",
    "df_crew.info()\n"
   ]
  },
  {
   "cell_type": "code",
   "execution_count": null,
   "metadata": {},
   "outputs": [],
   "source": [
    "# Separamos sólo los campos 'id', el trabajo realizado, y el nombre de la persona. \n",
    "# Esto nos permitirá uedarnos sólo con los directores.\n",
    "df_crew = df_crew[['id','crewjob','crewname']]"
   ]
  },
  {
   "cell_type": "code",
   "execution_count": null,
   "metadata": {},
   "outputs": [],
   "source": [
    "# Visuaizamos\n",
    "df_crew.head(5)"
   ]
  },
  {
   "cell_type": "code",
   "execution_count": 15,
   "metadata": {},
   "outputs": [],
   "source": [
    "# Creamos dataset sólo con los directores.\n",
    "df_directors = df_crew[df_crew['crewjob'] == 'Director']"
   ]
  },
  {
   "cell_type": "code",
   "execution_count": null,
   "metadata": {},
   "outputs": [],
   "source": [
    "# Visualizamos\n",
    "df_directors.head(5)"
   ]
  },
  {
   "cell_type": "code",
   "execution_count": 17,
   "metadata": {},
   "outputs": [],
   "source": [
    "# Realizamos el mismo trabajo con la otra mitad (df_cast) para poder separar los actores. \n",
    "columns_to_expand = ['cast']\n",
    "df_cast = expandcolumns(credits_cast, columns_to_expand)"
   ]
  },
  {
   "cell_type": "code",
   "execution_count": null,
   "metadata": {},
   "outputs": [],
   "source": [
    "# Visualizamos\n",
    "df_cast.head()"
   ]
  },
  {
   "cell_type": "code",
   "execution_count": null,
   "metadata": {},
   "outputs": [],
   "source": [
    "# Analizamos contenido\n",
    "df_cast.info()"
   ]
  },
  {
   "cell_type": "code",
   "execution_count": 57,
   "metadata": {},
   "outputs": [],
   "source": [
    "# Nos quedamos sólo con las columnas 'id' y con una lista con nombres de actores\n",
    "df_actors = df_cast[['id','castname']]"
   ]
  },
  {
   "cell_type": "code",
   "execution_count": null,
   "metadata": {},
   "outputs": [],
   "source": [
    "# Visualizamos\n",
    "df_actors.head()\n",
    "\n",
    "# YA TENEMOS TRABAJADO UNO DE LOS DATASETS CON LA INFORMACIÓN NECESARIA."
   ]
  },
  {
   "cell_type": "markdown",
   "metadata": {},
   "source": [
    "### Limpieza y transformación del dataset data_movies"
   ]
  },
  {
   "cell_type": "code",
   "execution_count": null,
   "metadata": {},
   "outputs": [],
   "source": [
    "# Eliminamos registros mal cargados en el campo 'imdb_id' y verificamos\n",
    "\n",
    "data_movies = data_movies[data_movies['imdb_id'] != '0']\n",
    "data_movies[(data_movies['imdb_id']=='0')]"
   ]
  },
  {
   "cell_type": "code",
   "execution_count": 24,
   "metadata": {},
   "outputs": [],
   "source": [
    "# Borramos columnas solicitdas en la consigna: 'video','imdb_id','adult','original_title','poster_path','homepage'.\n",
    "\n",
    "data_movies.drop(columns=['video','imdb_id','adult','original_title','poster_path','homepage'], inplace=True)"
   ]
  },
  {
   "cell_type": "code",
   "execution_count": null,
   "metadata": {},
   "outputs": [],
   "source": [
    "# Verificamos nulos\n",
    "data_movies.isnull().sum()"
   ]
  },
  {
   "cell_type": "code",
   "execution_count": null,
   "metadata": {},
   "outputs": [],
   "source": [
    "# Borramos y verificamos los registros que tienen nulos en el campo 'release_date' \n",
    "data_movies.dropna(subset=['release_date'], inplace=True)\n",
    "data_movies.isnull().sum()"
   ]
  },
  {
   "cell_type": "code",
   "execution_count": 27,
   "metadata": {},
   "outputs": [],
   "source": [
    "# Reemplazamos nulos por cero en los campos 'revenue' y 'budget'.\n",
    "data_movies['revenue'].fillna(0, inplace=True)\n",
    "data_movies['budget'].fillna(0, inplace=True)"
   ]
  },
  {
   "cell_type": "code",
   "execution_count": 230,
   "metadata": {},
   "outputs": [],
   "source": [
    "# Modificamos el tipo de valor en algunos campos, para poder trabajarlos más adelante.\n",
    "data_movies['budget'] = data_movies['budget'].astype(float)\n",
    "data_movies['popularity'] = data_movies['popularity'].astype(float)\n",
    "data_movies['id'] = data_movies['id'].astype(str)\n",
    "df_directors['id'] = df_directors['id'].astype(str)\n",
    "df_actors['id'] = df_cast['id'].astype(str)"
   ]
  },
  {
   "cell_type": "code",
   "execution_count": 60,
   "metadata": {},
   "outputs": [],
   "source": [
    "# Creamos nueva columna 'return', de acuerdo a lo solicitado en la consigna.\n",
    "data_movies['return'] = data_movies['revenue'] / data_movies['budget'].replace(0, 1)"
   ]
  },
  {
   "cell_type": "code",
   "execution_count": 63,
   "metadata": {},
   "outputs": [],
   "source": [
    "# Modificamos el tipo de dato del campo 'release_date' de object a datetime.\n",
    "data_movies['release_date'] = pd.to_datetime(data_movies['release_date'], errors='coerce').dt.strftime('%Y-%m-%d')"
   ]
  },
  {
   "cell_type": "code",
   "execution_count": 62,
   "metadata": {},
   "outputs": [],
   "source": [
    "# Creamos un nuevo campo 'release_year' de acuerdo a lo solicitado en la consigna.\n",
    "data_movies['release_year'] = pd.to_datetime(data_movies['release_date']).dt.year\n"
   ]
  },
  {
   "cell_type": "code",
   "execution_count": 65,
   "metadata": {},
   "outputs": [],
   "source": [
    "# Suprimimos espacios en blanco en el campo 'title'.\n",
    "data_movies['title'] = data_movies['title'].str.strip()\n"
   ]
  },
  {
   "cell_type": "code",
   "execution_count": null,
   "metadata": {},
   "outputs": [],
   "source": [
    "# Borramos duplicados y verificamos\n",
    "data_movies.drop_duplicates(inplace=True)\n",
    "data_movies.duplicated().sum()"
   ]
  },
  {
   "cell_type": "code",
   "execution_count": 69,
   "metadata": {},
   "outputs": [],
   "source": [
    "# Reemplazamos nulos por cero en campo 'popularity'.\n",
    "data_movies['popularity'].fillna(0, inplace=True)"
   ]
  },
  {
   "cell_type": "code",
   "execution_count": 70,
   "metadata": {},
   "outputs": [],
   "source": [
    "# Unimos el campo de directores al data_movies (principal). \n",
    "df_movies = data_movies.merge(df_directors, on='id', how='left')"
   ]
  },
  {
   "cell_type": "code",
   "execution_count": null,
   "metadata": {},
   "outputs": [],
   "source": [
    "# Verificamos\n",
    "df_movies.head(2)"
   ]
  },
  {
   "cell_type": "code",
   "execution_count": 72,
   "metadata": {},
   "outputs": [],
   "source": [
    "# Renombramos la columna a director\n",
    "df_movies.rename(columns={'crewname': 'director'}, inplace=True)\n"
   ]
  },
  {
   "cell_type": "code",
   "execution_count": 86,
   "metadata": {},
   "outputs": [],
   "source": [
    "# Modificamos el formato de la columna 'release_date\".\n",
    "df_movies['release_date']= pd.to_datetime(data_movies['release_date'],format= '%Y-%m-%d')"
   ]
  },
  {
   "cell_type": "code",
   "execution_count": 235,
   "metadata": {},
   "outputs": [],
   "source": [
    "# Reagrupamos el dataframe df_actors para luego unirlo al principal\n",
    "df_actors_reagrupado = df_actors.groupby('id')['castname'].apply(list).reset_index()"
   ]
  },
  {
   "cell_type": "code",
   "execution_count": 237,
   "metadata": {},
   "outputs": [],
   "source": [
    "# Unimos el campo de actores al data_movies (principal).\n",
    "df_movies_unida = df_movies.merge(df_actors_reagrupado, on='id', how='left')"
   ]
  },
  {
   "cell_type": "code",
   "execution_count": 274,
   "metadata": {},
   "outputs": [],
   "source": [
    "# Renombramos la columna a actors\n",
    "df_movies_unida.rename(columns={'castname':'actors'}, inplace=True)"
   ]
  },
  {
   "cell_type": "code",
   "execution_count": 279,
   "metadata": {},
   "outputs": [],
   "source": [
    "# Modificamos las columnas recientemente unidas como tipo string.\n",
    "df_movies_unida['director'] = df_movies_unida['director'].astype(str)\n",
    "df_movies_unida['actors'] = df_movies_unida['actors'].astype(str)"
   ]
  },
  {
   "cell_type": "code",
   "execution_count": null,
   "metadata": {},
   "outputs": [],
   "source": [
    "# Verificamos\n",
    "df_movies_unida.info()"
   ]
  },
  {
   "cell_type": "markdown",
   "metadata": {},
   "source": [
    "### Creación de funciones"
   ]
  },
  {
   "cell_type": "code",
   "execution_count": 239,
   "metadata": {},
   "outputs": [],
   "source": [
    "# CANTIDAD DE FILMACIONES POR MES SELECCIONADO EN ESPAÑOL\n",
    "\n",
    "def cantidad_filmaciones_mes(Mes):\n",
    "      \n",
    "    # Mapeo de nombres de meses en español a números de mes. Se incluyen AMBAS variantes para SEPTIEMBRE/SETIEMBRE.\n",
    "    meses = {'enero': 1, 'febrero': 2, 'marzo': 3, 'abril': 4,'mayo': 5, 'junio': 6, 'julio': 7, 'agosto': 8,'septiembre': 9, 'setiembre': 9, 'octubre': 10, 'noviembre': 11, 'diciembre': 12}\n",
    "    \n",
    "    # Convertir el mes ingresado a minúsculas y obtener su número correspondiente\n",
    "    mes_numero = meses.get(Mes.lower(), None)\n",
    "    \n",
    "    if mes_numero is None:\n",
    "        return f\"No se reconoce el mes '{Mes}'. Por favor, ingresa un mes válido en español.\"\n",
    "    \n",
    "    # Filtrar las películas por el mes especificado\n",
    "    peliculas_mes = df_movies_unida[df_movies_unida['release_date'].dt.month == mes_numero]\n",
    "    \n",
    "    # Obtener la cantidad de películas\n",
    "    cantidad = len(peliculas_mes)\n",
    "    \n",
    "    #Devolver el resultado formateado\n",
    "    return f\"{cantidad} {'películas' if cantidad != 1 else 'película'} fueron estrenadas en el mes de {Mes.capitalize()}.\"\n",
    "\n"
   ]
  },
  {
   "cell_type": "code",
   "execution_count": null,
   "metadata": {},
   "outputs": [],
   "source": [
    "# Probamos la función:\n",
    "mes_consultado = \"setiembre\"\n",
    "resultado = cantidad_filmaciones_mes(mes_consultado)\n",
    "resultado"
   ]
  },
  {
   "cell_type": "code",
   "execution_count": 252,
   "metadata": {},
   "outputs": [],
   "source": [
    "# CANTIDAD DE FILMACIONES POR DÍA SELECCIONADO EN ESPAÑOL\n",
    "\n",
    "def cantidad_filmaciones_dia(Dia):\n",
    "    \n",
    "    # Mapeo de nombres de días en español a números de día. Se incluyen variantes sin acento ortográfico.\n",
    "    dias = {'lunes': 0, 'martes': 1, 'miércoles': 2, 'miercoles': 2, 'jueves': 3, 'viernes': 4, 'sábado': 5, 'sabado': 5,'domingo': 6}\n",
    "    \n",
    "    # Convertir el día ingresado a minúsculas y obtener su número correspondiente\n",
    "    dia_numero = dias.get(Dia.lower(), None)\n",
    "    \n",
    "    if dia_numero is None:\n",
    "        return f\"No se reconoce el día '{Dia}'. Por favor, ingresa un día válido en español.\"\n",
    "    \n",
    "    # Filtrar las películas por el día especificado\n",
    "    peliculas_dia = df_movies_unida[df_movies_unida['release_date'].dt.dayofweek == dia_numero]\n",
    "    \n",
    "    # Obtener la cantidad de películas\n",
    "    cantidad = len(peliculas_dia)\n",
    "    \n",
    "    # Devolver el resultado formateado\n",
    "    return f\"{cantidad} {'películas' if cantidad != 1 else 'película'} fueron estrenadas en los días {Dia.title()}.\"\n",
    "\n"
   ]
  },
  {
   "cell_type": "code",
   "execution_count": null,
   "metadata": {},
   "outputs": [],
   "source": [
    "# Probamos la función:\n",
    "dia_consultado = \"martES\"\n",
    "resultado = cantidad_filmaciones_dia(dia_consultado)\n",
    "print(resultado)"
   ]
  },
  {
   "cell_type": "code",
   "execution_count": 255,
   "metadata": {},
   "outputs": [],
   "source": [
    "# TÍTULO, AÑO DE ESTRENO Y POPULARIDAD\n",
    "\n",
    "def score_titulo(titulo_de_la_filmacion):\n",
    "        \n",
    "    # Convertimos el título ingresado a minúsculas para la búsqueda\n",
    "    titulo_ingresado_lower = titulo_de_la_filmacion.lower()\n",
    "\n",
    "    # Filtramos la película por el título especificado en minúsculas\n",
    "    pelicula = df_movies_unida[df_movies_unida['title'].str.lower() == titulo_ingresado_lower]\n",
    "    \n",
    "    if pelicula.empty:\n",
    "        return f\"No se encontró información para la película '{titulo_de_la_filmacion}'.\"\n",
    "    else:\n",
    "        # Obtener el título original tal cual está en el dataset, el año de estreno y el score.\n",
    "        titulo_original = pelicula['title'].iloc[0]\n",
    "        año_estreno = pelicula['release_date'].dt.year.iloc[0]\n",
    "        score = pelicula['popularity'].iloc[0]\n",
    "        return f\"La película '{titulo_original}' fue estrenada en el año {año_estreno} con un score/popularidad de {score:.2f}.\"\n",
    "\n"
   ]
  },
  {
   "cell_type": "code",
   "execution_count": null,
   "metadata": {},
   "outputs": [],
   "source": [
    "# # Probamos la función sin considerar mayúsculas y minúsculas:\n",
    "titulo_consultado = \"shrek\"\n",
    "resultado = score_titulo(titulo_consultado)\n",
    "print(resultado)"
   ]
  },
  {
   "cell_type": "code",
   "execution_count": 262,
   "metadata": {},
   "outputs": [],
   "source": [
    "# TÍTULO, CANTIDAD DE VOTOS Y VALOR PROMEDIO arriba de 2000 VOTOS\n",
    "\n",
    "def votos_titulo(titulo_de_la_filmacion):\n",
    "        \n",
    "    # Convertimos el título ingresado a minúsculas para la búsqueda\n",
    "    titulo_ingresado_lower = titulo_de_la_filmacion.lower()\n",
    "\n",
    "    # Filtramos la película por el título especificado en minúsculas\n",
    "    pelicula = df_movies_unida[df_movies_unida['title'].str.lower() == titulo_ingresado_lower]\n",
    "        \n",
    "    if pelicula.empty:\n",
    "        return f\"No se encontró información para la película '{titulo_de_la_filmacion}'.\"\n",
    "    else:\n",
    "        votos = int(pelicula['vote_count'].iloc[0])\n",
    "        # Se condiciona a films con más de 2000 votos de acuerdo a lo estipulado en la consigna.\n",
    "        if votos < 2000:\n",
    "            return f\"La película '{titulo_de_la_filmacion}' fue estrenada en el año {pelicula['release_date'].dt.year.iloc[0]}. La misma cuenta con menos de 2000 valoraciones.\"\n",
    "        else:\n",
    "            titulo_original = pelicula['title'].iloc[0]\n",
    "            promedio = round(pelicula['popularity'].iloc[0], 2)\n",
    "            return f\"La película '{titulo_original}' fue estrenada en el año {pelicula['release_date'].dt.year.iloc[0]}. Tiene un total de {votos} valoraciones, con un promedio de {promedio}.\""
   ]
  },
  {
   "cell_type": "code",
   "execution_count": null,
   "metadata": {},
   "outputs": [],
   "source": [
    "# Probamos la función sin considerar mayúsculas y minúsculas:\n",
    "titulo_consultado = \"sabrina\"\n",
    "resultado = votos_titulo(titulo_consultado)\n",
    "print(resultado)"
   ]
  },
  {
   "cell_type": "code",
   "execution_count": 282,
   "metadata": {},
   "outputs": [],
   "source": [
    "# RETORNO Y CANTIDAD DE PELICULAS POR ACTOR\n",
    "\n",
    "def get_actor(nombre_actor):\n",
    "    \n",
    "    # Convertimos el título ingresado a minúsculas para la búsqueda\n",
    "    nombre_actor_lower = nombre_actor.lower()\n",
    "    # Se buscan los films donde se detecte que cntenga la cadena de string del nombre ingresado.\n",
    "    peliculas_actor = df_movies_unida[df_movies_unida['actors'].str.lower().str.contains(nombre_actor_lower, na=False) & (~df_movies_unida['director'].str.lower().str.contains(nombre_actor_lower, na=False))]\n",
    "    if peliculas_actor.empty:\n",
    "        return f\"No se encontró información para el actor '{nombre_actor}'.\"\n",
    "    else:\n",
    "        cantidad_peliculas = len(peliculas_actor)\n",
    "        retorno_promedio = peliculas_actor['revenue'].mean()\n",
    "        return f\"{nombre_actor} ha participado en {cantidad_peliculas} {'filmaciones' if cantidad_peliculas != 1 else 'filmación'}, con un retorno promedio de ${retorno_promedio:.2f}.\"\n",
    "\n"
   ]
  },
  {
   "cell_type": "code",
   "execution_count": null,
   "metadata": {},
   "outputs": [],
   "source": [
    "# Probamos la función:\n",
    "actor_consultado = \"tom hardy\"\n",
    "resultado = get_actor(actor_consultado)\n",
    "print(resultado)"
   ]
  },
  {
   "cell_type": "code",
   "execution_count": 284,
   "metadata": {},
   "outputs": [],
   "source": [
    "# RETORNO TOTAL POR DIRECTOR Y DETALLE DE PELICULAS\n",
    "\n",
    "def get_director(nombre_director):\n",
    "    # Convertir el nombre del director ingresado a minúsculas para la búsqueda\n",
    "    nombre_director_lower = nombre_director.lower()\n",
    "\n",
    "    # Filtrar las películas por el director especificado en minúsculas\n",
    "    peliculas_director = df_movies_unida[df_movies_unida['director'].str.lower() == nombre_director_lower]\n",
    "\n",
    "    if peliculas_director.empty:\n",
    "        return f\"No se encontró información para el director '{nombre_director}'.\"\n",
    "    else:\n",
    "        # Obtener la cantidad de películas y el total de retorno\n",
    "        cantidad_peliculas = len(peliculas_director)\n",
    "        retorno_total = round(peliculas_director['return'].sum(), 2)\n",
    "\n",
    "        # Obtener detalles de las películas (nombre, fecha de lanzamiento, retorno, costo, ganancia)\n",
    "        detalles_peliculas = []\n",
    "        for _, row in peliculas_director.iterrows():\n",
    "            nombre_pelicula = row['title']\n",
    "            fecha_lanzamiento = row['release_date'] #.strftime(\"%Y-%m-%d\")\n",
    "            retorno_individual = row['return']\n",
    "            costo = row['budget']\n",
    "            ganancia = row['revenue']\n",
    "            detalles_peliculas.append(f\"{nombre_pelicula} (Lanzamiento: {fecha_lanzamiento}, Retorno: {retorno_individual:2f}, Costo: {costo}, Ganancia: {ganancia})\")\n",
    "\n",
    "        # Crear una lista con cada película y sus detalles en líneas separadas\n",
    "        peliculas_formateadas = \"\\n\".join(detalles_peliculas)\n",
    "\n",
    "        return f\"El director '{nombre_director}' ha dirigido {cantidad_peliculas} {'películas' if cantidad_peliculas != 1 else 'película'}, con un retorno total de {retorno_total}.\\nDetalles de las películas:\\n{peliculas_formateadas}\"\n",
    "    "
   ]
  },
  {
   "cell_type": "code",
   "execution_count": null,
   "metadata": {},
   "outputs": [],
   "source": [
    "# Probamos la función:\n",
    "director_consultado = \"Tom hanks\"\n",
    "resultado = get_director(director_consultado)\n",
    "print(resultado)"
   ]
  },
  {
   "cell_type": "code",
   "execution_count": 286,
   "metadata": {},
   "outputs": [],
   "source": [
    "# Exportamos el dataframe como .parquet\n",
    "\n",
    "df_movies_unida.to_parquet('C:\\\\Users\\\\felip\\\\Desktop\\\\Proyecto1\\\\df_movies.parquet', index=False)"
   ]
  }
 ],
 "metadata": {
  "kernelspec": {
   "display_name": "Python 3",
   "language": "python",
   "name": "python3"
  },
  "language_info": {
   "codemirror_mode": {
    "name": "ipython",
    "version": 3
   },
   "file_extension": ".py",
   "mimetype": "text/x-python",
   "name": "python",
   "nbconvert_exporter": "python",
   "pygments_lexer": "ipython3",
   "version": "3.11.9"
  }
 },
 "nbformat": 4,
 "nbformat_minor": 2
}
